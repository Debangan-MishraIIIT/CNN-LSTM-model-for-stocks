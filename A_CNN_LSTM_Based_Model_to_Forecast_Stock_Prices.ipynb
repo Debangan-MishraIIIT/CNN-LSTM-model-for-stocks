{
  "cells": [
    {
      "cell_type": "markdown",
      "metadata": {
        "id": "view-in-github",
        "colab_type": "text"
      },
      "source": [
        "<a href=\"https://colab.research.google.com/github/Debangan-MishraIIIT/CNN-LSTM-model-for-stocks/blob/main/A_CNN_LSTM_Based_Model_to_Forecast_Stock_Prices.ipynb\" target=\"_parent\"><img src=\"https://colab.research.google.com/assets/colab-badge.svg\" alt=\"Open In Colab\"/></a>"
      ]
    },
    {
      "cell_type": "markdown",
      "source": [
        "The following notebook is the implementation of the paper [\"A CNN-LSTM-Based Model to Forecast Stock Prices\"](https://www.hindawi.com/journals/complexity/2020/6622927/) which utilises a combination of convolutional neural networks and LSTM networks to make predictions regarding stock prices of the Shanghai Composite Index."
      ],
      "metadata": {
        "id": "L_w8r2vlNlbo"
      }
    },
    {
      "cell_type": "code",
      "source": [
        "import yfinance as yf\n",
        "import numpy as np\n",
        "import matplotlib.pyplot as plt\n",
        "from torch import nn\n",
        "import torch"
      ],
      "metadata": {
        "id": "DDTXq0hq2O00"
      },
      "execution_count": 41,
      "outputs": []
    },
    {
      "cell_type": "markdown",
      "source": [
        "The paper takes the daily trading\n",
        "data of 7127 trading days from July 1, 1991, to August 31, 2020, from the wind database however dure to cost and convenience, I have used the historical prices information from the Yahoo Finance API. This API records the daily trading data of Shanghai Composite Index starting from 1997-07-02 which is why the ending date is taken to be 2024-01-01. Still due to lack of data, information about only 6421 days is available compelling 80-20 train test split. Note that the split should not include shuffling because of the linear nature of the time series data."
      ],
      "metadata": {
        "id": "wjyFdp1XPSRa"
      }
    },
    {
      "cell_type": "code",
      "source": [
        "seed = 42\n",
        "torch.manual_seed(seed)\n",
        "if torch.cuda.is_available():\n",
        "    torch.cuda.manual_seed_all(seed)"
      ],
      "metadata": {
        "id": "bPxCE3QxUUps"
      },
      "execution_count": 42,
      "outputs": []
    },
    {
      "cell_type": "code",
      "source": [
        "ticker = yf.Ticker(\"000001.SS\")\n",
        "df= ticker.history(start=\"1997-07-01\", end=\"2024-01-01\")"
      ],
      "metadata": {
        "id": "2YFN4nah2eFS"
      },
      "execution_count": 43,
      "outputs": []
    },
    {
      "cell_type": "code",
      "source": [
        "df2= df[['Close']]\n",
        "df3= df2.reset_index()"
      ],
      "metadata": {
        "id": "EsnI05ZLF6FX"
      },
      "execution_count": 44,
      "outputs": []
    },
    {
      "cell_type": "code",
      "source": [
        "df3"
      ],
      "metadata": {
        "colab": {
          "base_uri": "https://localhost:8080/",
          "height": 423
        },
        "id": "twOrZ0zUN6sT",
        "outputId": "c47286fb-6281-45e9-8955-4c7225fed66a"
      },
      "execution_count": 45,
      "outputs": [
        {
          "output_type": "execute_result",
          "data": {
            "text/plain": [
              "                          Date        Close\n",
              "0    1997-07-02 00:00:00+08:00  1199.061035\n",
              "1    1997-07-03 00:00:00+08:00  1150.623047\n",
              "2    1997-07-04 00:00:00+08:00  1159.342041\n",
              "3    1997-07-07 00:00:00+08:00  1096.818970\n",
              "4    1997-07-08 00:00:00+08:00  1109.666016\n",
              "...                        ...          ...\n",
              "6416 2023-12-25 00:00:00+08:00  2918.812988\n",
              "6417 2023-12-26 00:00:00+08:00  2898.879883\n",
              "6418 2023-12-27 00:00:00+08:00  2914.614014\n",
              "6419 2023-12-28 00:00:00+08:00  2954.704102\n",
              "6420 2023-12-29 00:00:00+08:00  2974.935059\n",
              "\n",
              "[6421 rows x 2 columns]"
            ],
            "text/html": [
              "\n",
              "  <div id=\"df-6f419601-ddce-4eee-8642-3207710421e7\" class=\"colab-df-container\">\n",
              "    <div>\n",
              "<style scoped>\n",
              "    .dataframe tbody tr th:only-of-type {\n",
              "        vertical-align: middle;\n",
              "    }\n",
              "\n",
              "    .dataframe tbody tr th {\n",
              "        vertical-align: top;\n",
              "    }\n",
              "\n",
              "    .dataframe thead th {\n",
              "        text-align: right;\n",
              "    }\n",
              "</style>\n",
              "<table border=\"1\" class=\"dataframe\">\n",
              "  <thead>\n",
              "    <tr style=\"text-align: right;\">\n",
              "      <th></th>\n",
              "      <th>Date</th>\n",
              "      <th>Close</th>\n",
              "    </tr>\n",
              "  </thead>\n",
              "  <tbody>\n",
              "    <tr>\n",
              "      <th>0</th>\n",
              "      <td>1997-07-02 00:00:00+08:00</td>\n",
              "      <td>1199.061035</td>\n",
              "    </tr>\n",
              "    <tr>\n",
              "      <th>1</th>\n",
              "      <td>1997-07-03 00:00:00+08:00</td>\n",
              "      <td>1150.623047</td>\n",
              "    </tr>\n",
              "    <tr>\n",
              "      <th>2</th>\n",
              "      <td>1997-07-04 00:00:00+08:00</td>\n",
              "      <td>1159.342041</td>\n",
              "    </tr>\n",
              "    <tr>\n",
              "      <th>3</th>\n",
              "      <td>1997-07-07 00:00:00+08:00</td>\n",
              "      <td>1096.818970</td>\n",
              "    </tr>\n",
              "    <tr>\n",
              "      <th>4</th>\n",
              "      <td>1997-07-08 00:00:00+08:00</td>\n",
              "      <td>1109.666016</td>\n",
              "    </tr>\n",
              "    <tr>\n",
              "      <th>...</th>\n",
              "      <td>...</td>\n",
              "      <td>...</td>\n",
              "    </tr>\n",
              "    <tr>\n",
              "      <th>6416</th>\n",
              "      <td>2023-12-25 00:00:00+08:00</td>\n",
              "      <td>2918.812988</td>\n",
              "    </tr>\n",
              "    <tr>\n",
              "      <th>6417</th>\n",
              "      <td>2023-12-26 00:00:00+08:00</td>\n",
              "      <td>2898.879883</td>\n",
              "    </tr>\n",
              "    <tr>\n",
              "      <th>6418</th>\n",
              "      <td>2023-12-27 00:00:00+08:00</td>\n",
              "      <td>2914.614014</td>\n",
              "    </tr>\n",
              "    <tr>\n",
              "      <th>6419</th>\n",
              "      <td>2023-12-28 00:00:00+08:00</td>\n",
              "      <td>2954.704102</td>\n",
              "    </tr>\n",
              "    <tr>\n",
              "      <th>6420</th>\n",
              "      <td>2023-12-29 00:00:00+08:00</td>\n",
              "      <td>2974.935059</td>\n",
              "    </tr>\n",
              "  </tbody>\n",
              "</table>\n",
              "<p>6421 rows × 2 columns</p>\n",
              "</div>\n",
              "    <div class=\"colab-df-buttons\">\n",
              "\n",
              "  <div class=\"colab-df-container\">\n",
              "    <button class=\"colab-df-convert\" onclick=\"convertToInteractive('df-6f419601-ddce-4eee-8642-3207710421e7')\"\n",
              "            title=\"Convert this dataframe to an interactive table.\"\n",
              "            style=\"display:none;\">\n",
              "\n",
              "  <svg xmlns=\"http://www.w3.org/2000/svg\" height=\"24px\" viewBox=\"0 -960 960 960\">\n",
              "    <path d=\"M120-120v-720h720v720H120Zm60-500h600v-160H180v160Zm220 220h160v-160H400v160Zm0 220h160v-160H400v160ZM180-400h160v-160H180v160Zm440 0h160v-160H620v160ZM180-180h160v-160H180v160Zm440 0h160v-160H620v160Z\"/>\n",
              "  </svg>\n",
              "    </button>\n",
              "\n",
              "  <style>\n",
              "    .colab-df-container {\n",
              "      display:flex;\n",
              "      gap: 12px;\n",
              "    }\n",
              "\n",
              "    .colab-df-convert {\n",
              "      background-color: #E8F0FE;\n",
              "      border: none;\n",
              "      border-radius: 50%;\n",
              "      cursor: pointer;\n",
              "      display: none;\n",
              "      fill: #1967D2;\n",
              "      height: 32px;\n",
              "      padding: 0 0 0 0;\n",
              "      width: 32px;\n",
              "    }\n",
              "\n",
              "    .colab-df-convert:hover {\n",
              "      background-color: #E2EBFA;\n",
              "      box-shadow: 0px 1px 2px rgba(60, 64, 67, 0.3), 0px 1px 3px 1px rgba(60, 64, 67, 0.15);\n",
              "      fill: #174EA6;\n",
              "    }\n",
              "\n",
              "    .colab-df-buttons div {\n",
              "      margin-bottom: 4px;\n",
              "    }\n",
              "\n",
              "    [theme=dark] .colab-df-convert {\n",
              "      background-color: #3B4455;\n",
              "      fill: #D2E3FC;\n",
              "    }\n",
              "\n",
              "    [theme=dark] .colab-df-convert:hover {\n",
              "      background-color: #434B5C;\n",
              "      box-shadow: 0px 1px 3px 1px rgba(0, 0, 0, 0.15);\n",
              "      filter: drop-shadow(0px 1px 2px rgba(0, 0, 0, 0.3));\n",
              "      fill: #FFFFFF;\n",
              "    }\n",
              "  </style>\n",
              "\n",
              "    <script>\n",
              "      const buttonEl =\n",
              "        document.querySelector('#df-6f419601-ddce-4eee-8642-3207710421e7 button.colab-df-convert');\n",
              "      buttonEl.style.display =\n",
              "        google.colab.kernel.accessAllowed ? 'block' : 'none';\n",
              "\n",
              "      async function convertToInteractive(key) {\n",
              "        const element = document.querySelector('#df-6f419601-ddce-4eee-8642-3207710421e7');\n",
              "        const dataTable =\n",
              "          await google.colab.kernel.invokeFunction('convertToInteractive',\n",
              "                                                    [key], {});\n",
              "        if (!dataTable) return;\n",
              "\n",
              "        const docLinkHtml = 'Like what you see? Visit the ' +\n",
              "          '<a target=\"_blank\" href=https://colab.research.google.com/notebooks/data_table.ipynb>data table notebook</a>'\n",
              "          + ' to learn more about interactive tables.';\n",
              "        element.innerHTML = '';\n",
              "        dataTable['output_type'] = 'display_data';\n",
              "        await google.colab.output.renderOutput(dataTable, element);\n",
              "        const docLink = document.createElement('div');\n",
              "        docLink.innerHTML = docLinkHtml;\n",
              "        element.appendChild(docLink);\n",
              "      }\n",
              "    </script>\n",
              "  </div>\n",
              "\n",
              "\n",
              "<div id=\"df-4019614f-6ac1-4543-8c5e-3f69a26e2c9c\">\n",
              "  <button class=\"colab-df-quickchart\" onclick=\"quickchart('df-4019614f-6ac1-4543-8c5e-3f69a26e2c9c')\"\n",
              "            title=\"Suggest charts\"\n",
              "            style=\"display:none;\">\n",
              "\n",
              "<svg xmlns=\"http://www.w3.org/2000/svg\" height=\"24px\"viewBox=\"0 0 24 24\"\n",
              "     width=\"24px\">\n",
              "    <g>\n",
              "        <path d=\"M19 3H5c-1.1 0-2 .9-2 2v14c0 1.1.9 2 2 2h14c1.1 0 2-.9 2-2V5c0-1.1-.9-2-2-2zM9 17H7v-7h2v7zm4 0h-2V7h2v10zm4 0h-2v-4h2v4z\"/>\n",
              "    </g>\n",
              "</svg>\n",
              "  </button>\n",
              "\n",
              "<style>\n",
              "  .colab-df-quickchart {\n",
              "      --bg-color: #E8F0FE;\n",
              "      --fill-color: #1967D2;\n",
              "      --hover-bg-color: #E2EBFA;\n",
              "      --hover-fill-color: #174EA6;\n",
              "      --disabled-fill-color: #AAA;\n",
              "      --disabled-bg-color: #DDD;\n",
              "  }\n",
              "\n",
              "  [theme=dark] .colab-df-quickchart {\n",
              "      --bg-color: #3B4455;\n",
              "      --fill-color: #D2E3FC;\n",
              "      --hover-bg-color: #434B5C;\n",
              "      --hover-fill-color: #FFFFFF;\n",
              "      --disabled-bg-color: #3B4455;\n",
              "      --disabled-fill-color: #666;\n",
              "  }\n",
              "\n",
              "  .colab-df-quickchart {\n",
              "    background-color: var(--bg-color);\n",
              "    border: none;\n",
              "    border-radius: 50%;\n",
              "    cursor: pointer;\n",
              "    display: none;\n",
              "    fill: var(--fill-color);\n",
              "    height: 32px;\n",
              "    padding: 0;\n",
              "    width: 32px;\n",
              "  }\n",
              "\n",
              "  .colab-df-quickchart:hover {\n",
              "    background-color: var(--hover-bg-color);\n",
              "    box-shadow: 0 1px 2px rgba(60, 64, 67, 0.3), 0 1px 3px 1px rgba(60, 64, 67, 0.15);\n",
              "    fill: var(--button-hover-fill-color);\n",
              "  }\n",
              "\n",
              "  .colab-df-quickchart-complete:disabled,\n",
              "  .colab-df-quickchart-complete:disabled:hover {\n",
              "    background-color: var(--disabled-bg-color);\n",
              "    fill: var(--disabled-fill-color);\n",
              "    box-shadow: none;\n",
              "  }\n",
              "\n",
              "  .colab-df-spinner {\n",
              "    border: 2px solid var(--fill-color);\n",
              "    border-color: transparent;\n",
              "    border-bottom-color: var(--fill-color);\n",
              "    animation:\n",
              "      spin 1s steps(1) infinite;\n",
              "  }\n",
              "\n",
              "  @keyframes spin {\n",
              "    0% {\n",
              "      border-color: transparent;\n",
              "      border-bottom-color: var(--fill-color);\n",
              "      border-left-color: var(--fill-color);\n",
              "    }\n",
              "    20% {\n",
              "      border-color: transparent;\n",
              "      border-left-color: var(--fill-color);\n",
              "      border-top-color: var(--fill-color);\n",
              "    }\n",
              "    30% {\n",
              "      border-color: transparent;\n",
              "      border-left-color: var(--fill-color);\n",
              "      border-top-color: var(--fill-color);\n",
              "      border-right-color: var(--fill-color);\n",
              "    }\n",
              "    40% {\n",
              "      border-color: transparent;\n",
              "      border-right-color: var(--fill-color);\n",
              "      border-top-color: var(--fill-color);\n",
              "    }\n",
              "    60% {\n",
              "      border-color: transparent;\n",
              "      border-right-color: var(--fill-color);\n",
              "    }\n",
              "    80% {\n",
              "      border-color: transparent;\n",
              "      border-right-color: var(--fill-color);\n",
              "      border-bottom-color: var(--fill-color);\n",
              "    }\n",
              "    90% {\n",
              "      border-color: transparent;\n",
              "      border-bottom-color: var(--fill-color);\n",
              "    }\n",
              "  }\n",
              "</style>\n",
              "\n",
              "  <script>\n",
              "    async function quickchart(key) {\n",
              "      const quickchartButtonEl =\n",
              "        document.querySelector('#' + key + ' button');\n",
              "      quickchartButtonEl.disabled = true;  // To prevent multiple clicks.\n",
              "      quickchartButtonEl.classList.add('colab-df-spinner');\n",
              "      try {\n",
              "        const charts = await google.colab.kernel.invokeFunction(\n",
              "            'suggestCharts', [key], {});\n",
              "      } catch (error) {\n",
              "        console.error('Error during call to suggestCharts:', error);\n",
              "      }\n",
              "      quickchartButtonEl.classList.remove('colab-df-spinner');\n",
              "      quickchartButtonEl.classList.add('colab-df-quickchart-complete');\n",
              "    }\n",
              "    (() => {\n",
              "      let quickchartButtonEl =\n",
              "        document.querySelector('#df-4019614f-6ac1-4543-8c5e-3f69a26e2c9c button');\n",
              "      quickchartButtonEl.style.display =\n",
              "        google.colab.kernel.accessAllowed ? 'block' : 'none';\n",
              "    })();\n",
              "  </script>\n",
              "</div>\n",
              "\n",
              "  <div id=\"id_2a6d4e12-1693-4e72-beb4-8b03fc4f581d\">\n",
              "    <style>\n",
              "      .colab-df-generate {\n",
              "        background-color: #E8F0FE;\n",
              "        border: none;\n",
              "        border-radius: 50%;\n",
              "        cursor: pointer;\n",
              "        display: none;\n",
              "        fill: #1967D2;\n",
              "        height: 32px;\n",
              "        padding: 0 0 0 0;\n",
              "        width: 32px;\n",
              "      }\n",
              "\n",
              "      .colab-df-generate:hover {\n",
              "        background-color: #E2EBFA;\n",
              "        box-shadow: 0px 1px 2px rgba(60, 64, 67, 0.3), 0px 1px 3px 1px rgba(60, 64, 67, 0.15);\n",
              "        fill: #174EA6;\n",
              "      }\n",
              "\n",
              "      [theme=dark] .colab-df-generate {\n",
              "        background-color: #3B4455;\n",
              "        fill: #D2E3FC;\n",
              "      }\n",
              "\n",
              "      [theme=dark] .colab-df-generate:hover {\n",
              "        background-color: #434B5C;\n",
              "        box-shadow: 0px 1px 3px 1px rgba(0, 0, 0, 0.15);\n",
              "        filter: drop-shadow(0px 1px 2px rgba(0, 0, 0, 0.3));\n",
              "        fill: #FFFFFF;\n",
              "      }\n",
              "    </style>\n",
              "    <button class=\"colab-df-generate\" onclick=\"generateWithVariable('df3')\"\n",
              "            title=\"Generate code using this dataframe.\"\n",
              "            style=\"display:none;\">\n",
              "\n",
              "  <svg xmlns=\"http://www.w3.org/2000/svg\" height=\"24px\"viewBox=\"0 0 24 24\"\n",
              "       width=\"24px\">\n",
              "    <path d=\"M7,19H8.4L18.45,9,17,7.55,7,17.6ZM5,21V16.75L18.45,3.32a2,2,0,0,1,2.83,0l1.4,1.43a1.91,1.91,0,0,1,.58,1.4,1.91,1.91,0,0,1-.58,1.4L9.25,21ZM18.45,9,17,7.55Zm-12,3A5.31,5.31,0,0,0,4.9,8.1,5.31,5.31,0,0,0,1,6.5,5.31,5.31,0,0,0,4.9,4.9,5.31,5.31,0,0,0,6.5,1,5.31,5.31,0,0,0,8.1,4.9,5.31,5.31,0,0,0,12,6.5,5.46,5.46,0,0,0,6.5,12Z\"/>\n",
              "  </svg>\n",
              "    </button>\n",
              "    <script>\n",
              "      (() => {\n",
              "      const buttonEl =\n",
              "        document.querySelector('#id_2a6d4e12-1693-4e72-beb4-8b03fc4f581d button.colab-df-generate');\n",
              "      buttonEl.style.display =\n",
              "        google.colab.kernel.accessAllowed ? 'block' : 'none';\n",
              "\n",
              "      buttonEl.onclick = () => {\n",
              "        google.colab.notebook.generateWithVariable('df3');\n",
              "      }\n",
              "      })();\n",
              "    </script>\n",
              "  </div>\n",
              "\n",
              "    </div>\n",
              "  </div>\n"
            ]
          },
          "metadata": {},
          "execution_count": 45
        }
      ]
    },
    {
      "cell_type": "code",
      "source": [
        "plt.plot(df3['Date'], df3['Close'])\n",
        "plt.show()"
      ],
      "metadata": {
        "colab": {
          "base_uri": "https://localhost:8080/",
          "height": 430
        },
        "id": "hx4gK2_zGz-9",
        "outputId": "d1885916-625b-4f05-f4ea-00345999bd84"
      },
      "execution_count": 46,
      "outputs": [
        {
          "output_type": "display_data",
          "data": {
            "text/plain": [
              "<Figure size 640x480 with 1 Axes>"
            ],
            "image/png": "[encoded data removed]"
          },
          "metadata": {}
        }
      ]
    },
    {
      "cell_type": "code",
      "source": [
        "np_arr= np.array(df3['Close'])"
      ],
      "metadata": {
        "id": "MPbKe6miHELe"
      },
      "execution_count": 47,
      "outputs": []
    },
    {
      "cell_type": "code",
      "source": [
        "#Additionally, I have normalized the stock price data as in observation, it gives better results\n",
        "mean= np_arr.mean()\n",
        "std= np_arr.std()\n",
        "np_arr= (np_arr-mean)/std"
      ],
      "metadata": {
        "id": "RH6TBsC8fxVt"
      },
      "execution_count": 48,
      "outputs": []
    },
    {
      "cell_type": "code",
      "source": [
        "print(mean, std)"
      ],
      "metadata": {
        "colab": {
          "base_uri": "https://localhost:8080/"
        },
        "id": "JUVqhPbwTKEH",
        "outputId": "1f297c6c-09fd-4d31-d3dd-f8ad4d015e96"
      },
      "execution_count": 49,
      "outputs": [
        {
          "output_type": "stream",
          "name": "stdout",
          "text": [
            "2471.538428441588 911.6204426444947\n"
          ]
        }
      ]
    },
    {
      "cell_type": "markdown",
      "source": [
        "The model design is as per the paper, with a slight modification- time step is taken to be 1 instead of 10 and the dimensions are following the convention (Batch Size, Size of Window, Time Step) rather than (Batch Size, Time Step, Size of Window) as followed in the paper to account for differences in PyTorch implementation. For further reference- look at figure 4"
      ],
      "metadata": {
        "id": "1bL6_CahQNoo"
      }
    },
    {
      "cell_type": "code",
      "source": [
        "class Model(nn.Module):\n",
        "  def __init__(self):\n",
        "    super().__init__()\n",
        "    self.CNNModel= nn.Sequential(\n",
        "        nn.Conv1d(in_channels=8, out_channels=32, kernel_size=1, padding=\"same\"),\n",
        "        nn.Tanh(),\n",
        "        nn.MaxPool1d(kernel_size=1, padding=0),\n",
        "        nn.ReLU()\n",
        "    )\n",
        "    self.LSTMModel= nn.Sequential(\n",
        "        nn.LSTM(input_size=1, hidden_size=64, batch_first=True)\n",
        "    )\n",
        "    self.LinearModel= nn.Sequential(\n",
        "        nn.Tanh(),\n",
        "        nn.Linear(in_features=64, out_features=1)\n",
        "    )\n",
        "\n",
        "  def forward(self, data):\n",
        "    out1= self.CNNModel(data)\n",
        "    out2, _= self.LSTMModel(data)\n",
        "    out3= self.LinearModel(out2[:, -1, :])\n",
        "    out4= torch.reshape(out3, (len(out2), ))\n",
        "    return out4"
      ],
      "metadata": {
        "id": "wX3MjtFNLXj_"
      },
      "execution_count": 50,
      "outputs": []
    },
    {
      "cell_type": "code",
      "source": [
        "from torch.utils.data import Dataset, DataLoader\n",
        "class CustomDataset(Dataset):\n",
        "    def __init__(self, X_data, y_data):\n",
        "        self.X_data = X_data\n",
        "        self.y_data = y_data\n",
        "        self.length = len(X_data)\n",
        "\n",
        "    def __getitem__(self, index):\n",
        "        x = self.X_data[index]\n",
        "        y = self.y_data[index]\n",
        "        return x, y\n",
        "\n",
        "    def __len__(self):\n",
        "        return self.length"
      ],
      "metadata": {
        "id": "Qn6ewyykOpdA"
      },
      "execution_count": 51,
      "outputs": []
    },
    {
      "cell_type": "code",
      "source": [
        "def create_windows(arr, window):\n",
        "  X,y=[],[]\n",
        "  for i in range(window, len(arr)):\n",
        "    X.append(arr[i-window:i])\n",
        "    y.append(arr[i])\n",
        "  return torch.reshape((torch.tensor(X)).to(torch.float32), (len(X), window, 1)), (torch.tensor(y)).to(torch.float32)"
      ],
      "metadata": {
        "id": "3PD-ZesaITXA"
      },
      "execution_count": 52,
      "outputs": []
    },
    {
      "cell_type": "code",
      "source": [
        "device= \"cuda:0\" if torch.cuda.is_available() else \"cpu\" #training on GPU for convenience\n",
        "print(device)\n",
        "train_size= int(len(np_arr)*0.8)"
      ],
      "metadata": {
        "colab": {
          "base_uri": "https://localhost:8080/"
        },
        "id": "cyDf00mmS7iu",
        "outputId": "263c4387-8ce6-47ef-c60f-878c67c7248b"
      },
      "execution_count": 53,
      "outputs": [
        {
          "output_type": "stream",
          "name": "stdout",
          "text": [
            "cuda:0\n"
          ]
        }
      ]
    },
    {
      "cell_type": "code",
      "source": [
        "#this value determines how many past days will be considered for the price prediction, and the value is same as the\n",
        "#number of features parameter mentioned in paper\n",
        "lookback= 8\n",
        "X_train, y_train = create_windows(np_arr[:train_size], lookback)\n",
        "X_test, y_test = create_windows(np_arr[train_size:], lookback)\n",
        "\n",
        "train_data = CustomDataset(X_train, y_train)\n",
        "test_data = CustomDataset(X_test, y_test)\n",
        "batch_size = 64\n",
        "train_loader = DataLoader(dataset=train_data, batch_size=batch_size, shuffle=False)\n",
        "test_loader = DataLoader(dataset=test_data, batch_size=batch_size, shuffle=False)\n",
        "\n",
        "num_epoch= 100\n",
        "model = Model()\n",
        "model = model.to(device)\n",
        "optim = torch.optim.Adam(model.parameters())\n",
        "loss = torch.nn.L1Loss()\n",
        "\n",
        "for epoch in range(num_epoch):\n",
        "    model.train()\n",
        "    train_loss = 0\n",
        "    for i, (X, y) in enumerate(train_loader):\n",
        "        X = X.to(device)\n",
        "        y = y.to(device)\n",
        "        y_pred = model(X)\n",
        "        lossv = loss(y_pred, y)\n",
        "        train_loss += lossv\n",
        "\n",
        "        optim.zero_grad()\n",
        "        lossv.backward()\n",
        "        optim.step()\n",
        "\n",
        "    train_loss /= len(train_loader)\n",
        "\n",
        "    model.eval()\n",
        "    test_loss = 0\n",
        "    with torch.inference_mode():\n",
        "        for X, y in test_loader:\n",
        "            X = X.to(device)\n",
        "            y = y.to(device)\n",
        "            y_pred = model(X)\n",
        "            lossw = loss(y_pred, y)\n",
        "            test_loss += lossw\n",
        "\n",
        "        test_loss /= len(test_loader)\n",
        "\n",
        "    print(f\"Epoch: {epoch+1}/{num_epoch}, Train Loss: {train_loss.item():.4f}, Test Loss: {test_loss.item():.4f}\")\n",
        "# Plotting for each combination of lookback and number of epochs"
      ],
      "metadata": {
        "colab": {
          "base_uri": "https://localhost:8080/"
        },
        "id": "iD51XNnPPo1M",
        "outputId": "6d1e84ef-38f6-4f4f-fdbb-2e05866937ae"
      },
      "execution_count": 54,
      "outputs": [
        {
          "output_type": "stream",
          "name": "stdout",
          "text": [
            "Epoch: 1/100, Train Loss: 0.6199, Test Loss: 0.5617\n",
            "Epoch: 2/100, Train Loss: 0.2409, Test Loss: 0.0979\n",
            "Epoch: 3/100, Train Loss: 0.1724, Test Loss: 0.1032\n",
            "Epoch: 4/100, Train Loss: 0.1482, Test Loss: 0.0963\n",
            "Epoch: 5/100, Train Loss: 0.1257, Test Loss: 0.1025\n",
            "Epoch: 6/100, Train Loss: 0.1000, Test Loss: 0.0512\n",
            "Epoch: 7/100, Train Loss: 0.0961, Test Loss: 0.0671\n",
            "Epoch: 8/100, Train Loss: 0.1119, Test Loss: 0.0462\n",
            "Epoch: 9/100, Train Loss: 0.0917, Test Loss: 0.0725\n",
            "Epoch: 10/100, Train Loss: 0.0939, Test Loss: 0.0492\n",
            "Epoch: 11/100, Train Loss: 0.0753, Test Loss: 0.0782\n",
            "Epoch: 12/100, Train Loss: 0.0731, Test Loss: 0.0679\n",
            "Epoch: 13/100, Train Loss: 0.1011, Test Loss: 0.0499\n",
            "Epoch: 14/100, Train Loss: 0.1256, Test Loss: 0.0967\n",
            "Epoch: 15/100, Train Loss: 0.0775, Test Loss: 0.0385\n",
            "Epoch: 16/100, Train Loss: 0.0878, Test Loss: 0.0570\n",
            "Epoch: 17/100, Train Loss: 0.0764, Test Loss: 0.0545\n",
            "Epoch: 18/100, Train Loss: 0.0730, Test Loss: 0.0558\n",
            "Epoch: 19/100, Train Loss: 0.1151, Test Loss: 0.0691\n",
            "Epoch: 20/100, Train Loss: 0.0740, Test Loss: 0.0546\n",
            "Epoch: 21/100, Train Loss: 0.0709, Test Loss: 0.0419\n",
            "Epoch: 22/100, Train Loss: 0.0629, Test Loss: 0.0469\n",
            "Epoch: 23/100, Train Loss: 0.0576, Test Loss: 0.0515\n",
            "Epoch: 24/100, Train Loss: 0.0588, Test Loss: 0.0547\n",
            "Epoch: 25/100, Train Loss: 0.0743, Test Loss: 0.0802\n",
            "Epoch: 26/100, Train Loss: 0.0691, Test Loss: 0.0406\n",
            "Epoch: 27/100, Train Loss: 0.0624, Test Loss: 0.0375\n",
            "Epoch: 28/100, Train Loss: 0.0617, Test Loss: 0.0409\n",
            "Epoch: 29/100, Train Loss: 0.0518, Test Loss: 0.0488\n",
            "Epoch: 30/100, Train Loss: 0.0933, Test Loss: 0.0483\n",
            "Epoch: 31/100, Train Loss: 0.0516, Test Loss: 0.0364\n",
            "Epoch: 32/100, Train Loss: 0.0546, Test Loss: 0.0339\n",
            "Epoch: 33/100, Train Loss: 0.0545, Test Loss: 0.0342\n",
            "Epoch: 34/100, Train Loss: 0.0458, Test Loss: 0.0419\n",
            "Epoch: 35/100, Train Loss: 0.0702, Test Loss: 0.0719\n",
            "Epoch: 36/100, Train Loss: 0.0428, Test Loss: 0.0305\n",
            "Epoch: 37/100, Train Loss: 0.0463, Test Loss: 0.0301\n",
            "Epoch: 38/100, Train Loss: 0.0529, Test Loss: 0.0339\n",
            "Epoch: 39/100, Train Loss: 0.0429, Test Loss: 0.0367\n",
            "Epoch: 40/100, Train Loss: 0.0715, Test Loss: 0.0684\n",
            "Epoch: 41/100, Train Loss: 0.0403, Test Loss: 0.0313\n",
            "Epoch: 42/100, Train Loss: 0.0428, Test Loss: 0.0298\n",
            "Epoch: 43/100, Train Loss: 0.0489, Test Loss: 0.0309\n",
            "Epoch: 44/100, Train Loss: 0.0402, Test Loss: 0.0298\n",
            "Epoch: 45/100, Train Loss: 0.0441, Test Loss: 0.0318\n",
            "Epoch: 46/100, Train Loss: 0.0413, Test Loss: 0.0342\n",
            "Epoch: 47/100, Train Loss: 0.0693, Test Loss: 0.0660\n",
            "Epoch: 48/100, Train Loss: 0.0385, Test Loss: 0.0293\n",
            "Epoch: 49/100, Train Loss: 0.0424, Test Loss: 0.0282\n",
            "Epoch: 50/100, Train Loss: 0.0526, Test Loss: 0.0299\n",
            "Epoch: 51/100, Train Loss: 0.0398, Test Loss: 0.0287\n",
            "Epoch: 52/100, Train Loss: 0.0539, Test Loss: 0.0368\n",
            "Epoch: 53/100, Train Loss: 0.0347, Test Loss: 0.0285\n",
            "Epoch: 54/100, Train Loss: 0.0398, Test Loss: 0.0281\n",
            "Epoch: 55/100, Train Loss: 0.0377, Test Loss: 0.0288\n",
            "Epoch: 56/100, Train Loss: 0.0362, Test Loss: 0.0297\n",
            "Epoch: 57/100, Train Loss: 0.0461, Test Loss: 0.0298\n",
            "Epoch: 58/100, Train Loss: 0.0434, Test Loss: 0.0290\n",
            "Epoch: 59/100, Train Loss: 0.0507, Test Loss: 0.0338\n",
            "Epoch: 60/100, Train Loss: 0.0362, Test Loss: 0.0273\n",
            "Epoch: 61/100, Train Loss: 0.0397, Test Loss: 0.0299\n",
            "Epoch: 62/100, Train Loss: 0.0368, Test Loss: 0.0286\n",
            "Epoch: 63/100, Train Loss: 0.0429, Test Loss: 0.0272\n",
            "Epoch: 64/100, Train Loss: 0.0429, Test Loss: 0.0292\n",
            "Epoch: 65/100, Train Loss: 0.0474, Test Loss: 0.0324\n",
            "Epoch: 66/100, Train Loss: 0.0411, Test Loss: 0.0288\n",
            "Epoch: 67/100, Train Loss: 0.0490, Test Loss: 0.0346\n",
            "Epoch: 68/100, Train Loss: 0.0357, Test Loss: 0.0273\n",
            "Epoch: 69/100, Train Loss: 0.0388, Test Loss: 0.0281\n",
            "Epoch: 70/100, Train Loss: 0.0340, Test Loss: 0.0275\n",
            "Epoch: 71/100, Train Loss: 0.0381, Test Loss: 0.0289\n",
            "Epoch: 72/100, Train Loss: 0.0402, Test Loss: 0.0301\n",
            "Epoch: 73/100, Train Loss: 0.0480, Test Loss: 0.0345\n",
            "Epoch: 74/100, Train Loss: 0.0387, Test Loss: 0.0281\n",
            "Epoch: 75/100, Train Loss: 0.0427, Test Loss: 0.0280\n",
            "Epoch: 76/100, Train Loss: 0.0377, Test Loss: 0.0282\n",
            "Epoch: 77/100, Train Loss: 0.0419, Test Loss: 0.0281\n",
            "Epoch: 78/100, Train Loss: 0.0382, Test Loss: 0.0283\n",
            "Epoch: 79/100, Train Loss: 0.0424, Test Loss: 0.0286\n",
            "Epoch: 80/100, Train Loss: 0.0375, Test Loss: 0.0283\n",
            "Epoch: 81/100, Train Loss: 0.0405, Test Loss: 0.0277\n",
            "Epoch: 82/100, Train Loss: 0.0380, Test Loss: 0.0284\n",
            "Epoch: 83/100, Train Loss: 0.0409, Test Loss: 0.0280\n",
            "Epoch: 84/100, Train Loss: 0.0383, Test Loss: 0.0284\n",
            "Epoch: 85/100, Train Loss: 0.0404, Test Loss: 0.0279\n",
            "Epoch: 86/100, Train Loss: 0.0380, Test Loss: 0.0283\n",
            "Epoch: 87/100, Train Loss: 0.0389, Test Loss: 0.0279\n",
            "Epoch: 88/100, Train Loss: 0.0374, Test Loss: 0.0286\n",
            "Epoch: 89/100, Train Loss: 0.0405, Test Loss: 0.0279\n",
            "Epoch: 90/100, Train Loss: 0.0384, Test Loss: 0.0287\n",
            "Epoch: 91/100, Train Loss: 0.0400, Test Loss: 0.0282\n",
            "Epoch: 92/100, Train Loss: 0.0376, Test Loss: 0.0282\n",
            "Epoch: 93/100, Train Loss: 0.0384, Test Loss: 0.0282\n",
            "Epoch: 94/100, Train Loss: 0.0370, Test Loss: 0.0288\n",
            "Epoch: 95/100, Train Loss: 0.0400, Test Loss: 0.0282\n",
            "Epoch: 96/100, Train Loss: 0.0376, Test Loss: 0.0287\n",
            "Epoch: 97/100, Train Loss: 0.0392, Test Loss: 0.0282\n",
            "Epoch: 98/100, Train Loss: 0.0371, Test Loss: 0.0285\n",
            "Epoch: 99/100, Train Loss: 0.0382, Test Loss: 0.0281\n",
            "Epoch: 100/100, Train Loss: 0.0370, Test Loss: 0.0289\n"
          ]
        }
      ]
    },
    {
      "cell_type": "markdown",
      "source": [
        "As we can see from the following graph, the model is accurately predicting the time series as we see a strong overlap between real and predicted data."
      ],
      "metadata": {
        "id": "ClxOzpbWRIk4"
      }
    },
    {
      "cell_type": "code",
      "source": [
        "model.eval()\n",
        "with torch.no_grad():\n",
        "    train_outputs = []\n",
        "    for X, _ in train_loader:\n",
        "        X = X.to(device)\n",
        "        y_pred = model(X)\n",
        "        train_outputs.append(y_pred.cpu().numpy())\n",
        "\n",
        "    train_outputs = np.concatenate(train_outputs)\n",
        "\n",
        "test_outputs = []\n",
        "with torch.no_grad():\n",
        "    for X, _ in test_loader:\n",
        "        X = X.to(device)\n",
        "        y_pred = model(X)\n",
        "        test_outputs.append(y_pred.cpu().numpy())\n",
        "\n",
        "test_outputs = np.concatenate(test_outputs)\n",
        "\n",
        "#multiplying back the mean and standard deviation, essentially undoing the normalization before plotting\n",
        "plt.figure(figsize=(10, 7))\n",
        "plt.plot(range(len(np_arr)), np_arr*std+mean, label=\"Original\", c=\"r\")\n",
        "plt.plot(range(len(train_outputs)), train_outputs*std+mean, label=\"Train\")\n",
        "plt.plot(range(len(train_outputs), len(train_outputs) + len(test_outputs)), test_outputs*std+mean, label=\"Test\", c=\"g\")\n",
        "plt.title(f\"Lookback: {lookback}, Epochs: {num_epoch}\")\n",
        "plt.legend()\n",
        "plt.show()"
      ],
      "metadata": {
        "colab": {
          "base_uri": "https://localhost:8080/",
          "height": 622
        },
        "id": "vzkK0tixkYYb",
        "outputId": "fa9d557b-e492-4adb-9273-7ba13b3f61a9"
      },
      "execution_count": 55,
      "outputs": [
        {
          "output_type": "display_data",
          "data": {
            "text/plain": [
              "<Figure size 1000x700 with 1 Axes>"
            ],
            "image/png": "[encoded data removed]"
          },
          "metadata": {}
        }
      ]
    },
    {
      "cell_type": "markdown",
      "source": [
        "The metrics obtained in the paper for CNN-LSTM were MAE=27.564, RMSE=39.688, and R-square=0.9646. The values obtained from my implementation are fairly similar though we have to account differences in the training data and duration from which the data was taken.\n"
      ],
      "metadata": {
        "id": "hJjh61iOYR-5"
      }
    },
    {
      "cell_type": "code",
      "source": [
        "y_test2= y_test*std+mean\n",
        "test_outputs2= test_outputs*std+mean\n",
        "\n",
        "from sklearn.metrics import mean_squared_error, r2_score\n",
        "y_test_np = y_test2.detach().numpy()\n",
        "l1_loss = torch.nn.L1Loss()(torch.from_numpy(test_outputs2), y_test2).item()\n",
        "r_squared = r2_score(y_test_np, test_outputs2)\n",
        "rmse = np.sqrt(mean_squared_error(y_test_np, test_outputs2))\n",
        "print(f\"MAE Loss: {l1_loss}\")\n",
        "print(f\"R-squared: {r_squared}\")\n",
        "print(f\"RMSE: {rmse}\")"
      ],
      "metadata": {
        "colab": {
          "base_uri": "https://localhost:8080/"
        },
        "id": "5iK1dUQ5WgZJ",
        "outputId": "9453466a-2b0d-49e9-e6fe-cd1171dcebcc"
      },
      "execution_count": 56,
      "outputs": [
        {
          "output_type": "stream",
          "name": "stdout",
          "text": [
            "L1 Loss: 26.394086837768555\n",
            "R-squared: 0.9837456349002749\n",
            "RMSE: 35.630985260009766\n"
          ]
        }
      ]
    }
  ],
  "metadata": {
    "colab": {
      "provenance": [],
      "toc_visible": true,
      "gpuType": "T4",
      "authorship_tag": "ABX9TyNWJ+wFPx37Ou0u3ljjfl+G",
      "include_colab_link": true
    },
    "kernelspec": {
      "display_name": "Python 3",
      "name": "python3"
    },
    "language_info": {
      "name": "python"
    },
    "accelerator": "GPU"
  },
  "nbformat": 4,
  "nbformat_minor": 0
}